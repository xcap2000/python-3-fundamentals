{
 "cells": [
  {
   "cell_type": "markdown",
   "metadata": {},
   "source": [
    "# Module 5 (Dictionaries, JSON, and pip)"
   ]
  },
  {
   "cell_type": "code",
   "execution_count": 2,
   "metadata": {},
   "outputs": [
    {
     "name": "stdout",
     "output_type": "stream",
     "text": [
      "to be honest\n"
     ]
    }
   ],
   "source": [
    "acronyms = {\n",
    "    \"LOL\": \"laugh out loud\",\n",
    "    \"IDK\": \"I don't know\",\n",
    "    \"TBH\": \"to be honest\"\n",
    "}\n",
    "\n",
    "print(acronyms[\"TBH\"])"
   ]
  },
  {
   "cell_type": "code",
   "execution_count": null,
   "metadata": {},
   "outputs": [],
   "source": [
    "menu = {'Soup': 5, 'Salad': 6}\n",
    "my_dict = {10: 'hello', 2: 6.5}"
   ]
  },
  {
   "cell_type": "code",
   "execution_count": 3,
   "metadata": {},
   "outputs": [
    {
     "name": "stdout",
     "output_type": "stream",
     "text": [
      "{'LOL': 'laugh out loud', 'IDK': \"I don't know\", 'TBH': 'laugh out loud'}\n"
     ]
    }
   ],
   "source": [
    "acronyms = {}\n",
    "acronyms['LOL'] = 'laugh out loud'\n",
    "acronyms['IDK'] = \"I don't know\"\n",
    "acronyms['TBH'] = 'to be honest'\n",
    "print(acronyms)"
   ]
  },
  {
   "cell_type": "markdown",
   "metadata": {},
   "source": [
    "# Update"
   ]
  },
  {
   "cell_type": "code",
   "execution_count": 9,
   "metadata": {},
   "outputs": [
    {
     "name": "stdout",
     "output_type": "stream",
     "text": [
      "{'LOL': 'laugh out loud', 'IDK': \"I don't know\", 'TBH': 'to be honest'}\n",
      "honestly\n"
     ]
    }
   ],
   "source": [
    "acronyms = {\n",
    "    \"LOL\": \"laugh out loud\",\n",
    "    \"IDK\": \"I don't know\",\n",
    "    \"TBH\": \"to be honest\"\n",
    "}\n",
    "print(acronyms)\n",
    "\n",
    "acronyms['TBH'] = 'honestly'\n",
    "\n",
    "print(acronyms['TBH'])"
   ]
  },
  {
   "cell_type": "markdown",
   "metadata": {},
   "source": [
    "# Remove"
   ]
  },
  {
   "cell_type": "code",
   "execution_count": 11,
   "metadata": {},
   "outputs": [
    {
     "name": "stdout",
     "output_type": "stream",
     "text": [
      "{'LOL': 'laugh out loud', 'IDK': \"I don't know\", 'TBH': 'to be honest'}\n",
      "{'IDK': \"I don't know\", 'TBH': 'to be honest'}\n"
     ]
    }
   ],
   "source": [
    "acronyms = {\"LOL\": \"laugh out loud\",\n",
    "            \"IDK\": \"I don't know\",\n",
    "            \"TBH\": \"to be honest\"}\n",
    "print(acronyms)\n",
    "del acronyms[\"LOL\"]\n",
    "print(acronyms)"
   ]
  },
  {
   "cell_type": "markdown",
   "metadata": {},
   "source": [
    "# Get Safely (won't crash if key does not exist)"
   ]
  },
  {
   "cell_type": "code",
   "execution_count": 19,
   "metadata": {},
   "outputs": [
    {
     "name": "stdout",
     "output_type": "stream",
     "text": [
      "None\n",
      "Null\n",
      "Null\n",
      "Key does not exist\n"
     ]
    }
   ],
   "source": [
    "acronyms = {\"LOL\": \"laugh out loud\",\n",
    "            \"IDK\": \"I don't know\",\n",
    "            \"TBH\": \"to be honest\"}\n",
    "# Raises a KeyError\n",
    "# definition = acronyms['BTW']\n",
    "definition = acronyms.get('BTW')\n",
    "print(definition)\n",
    "if definition is None:\n",
    "    print(\"Null\")\n",
    "if definition == None:\n",
    "    print(\"Null\")\n",
    "# None is evaluated to false\n",
    "if definition:\n",
    "    print(definition)\n",
    "else:\n",
    "    print(\"Key does not exist\")"
   ]
  },
  {
   "cell_type": "code",
   "execution_count": 20,
   "metadata": {},
   "outputs": [
    {
     "name": "stdout",
     "output_type": "stream",
     "text": [
      "sentence: IDK what happened TBH\n",
      "translation I don't know what happened to be honest\n"
     ]
    }
   ],
   "source": [
    "acronyms = {\"LOL\": \"laugh out loud\",\n",
    "            \"IDK\": \"I don't know\",\n",
    "            \"TBH\": \"to be honest\"}\n",
    "\n",
    "sentence = \"IDK\" + \" what happened \" + \"TBH\"\n",
    "transalation = acronyms.get(\"IDK\") + \" what happened \" + acronyms.get(\"TBH\")\n",
    "\n",
    "print(\"sentence:\", sentence)\n",
    "print(\"translation\", transalation)"
   ]
  },
  {
   "cell_type": "markdown",
   "metadata": {},
   "source": [
    "# Combine Lists"
   ]
  },
  {
   "cell_type": "code",
   "execution_count": 3,
   "metadata": {},
   "outputs": [
    {
     "name": "stdout",
     "output_type": "stream",
     "text": [
      "Breakfast Menu:\t ['Egg Sandwich', 'Bagel', 'Coffee']\n",
      "Lunch Menu:\t ['BLT', 'PB&J', 'Turkey Sandwich']\n",
      "Dinner Menu:\t ['Soup', 'Salad', 'Spaghetti', 'Taco']\n",
      "Bagel\n",
      "Breakfast Menu:\t ['Egg Sandwich', 'Bagel', 'Coffee']\n",
      "Lunch Menu:\t ['BLT', 'PB&J', 'Turkey Sandwich']\n",
      "Dinner Menu:\t ['Soup', 'Salad', 'Spaghetti', 'Taco']\n"
     ]
    }
   ],
   "source": [
    "breakfast = ['Egg Sandwich', 'Bagel', 'Coffee']\n",
    "lunch = ['BLT', 'PB&J', 'Turkey Sandwich']\n",
    "dinner = ['Soup', 'Salad', 'Spaghetti', 'Taco']\n",
    "\n",
    "menus = [['Egg Sandwich', 'Bagel', 'Coffee'],\n",
    "         ['BLT', 'PB&J', 'Turkey Sandwich'],\n",
    "         ['Soup', 'Salad', 'Spaghetti', 'Taco']]\n",
    "\n",
    "print('Breakfast Menu:\\t', menus[0])\n",
    "print('Lunch Menu:\\t', menus[1])\n",
    "print('Dinner Menu:\\t', menus[2])\n",
    "\n",
    "print(menus[0][1]) # Bagel\n",
    "\n",
    "menus = { 'Breakfast': ['Egg Sandwich', 'Bagel', 'Coffee'],\n",
    "          'Lunch'    : ['BLT', 'PB&J', 'Turkey Sandwich'],\n",
    "          'Dinner'   : ['Soup', 'Salad', 'Spaghetti', 'Taco'] }\n",
    "\n",
    "print('Breakfast Menu:\\t', menus['Breakfast'])\n",
    "print('Lunch Menu:\\t', menus['Lunch'])\n",
    "print('Dinner Menu:\\t', menus['Dinner'])\n"
   ]
  },
  {
   "cell_type": "markdown",
   "metadata": {},
   "source": [
    "# Print Keys and Key Pairs"
   ]
  },
  {
   "cell_type": "code",
   "execution_count": 7,
   "metadata": {},
   "outputs": [
    {
     "name": "stdout",
     "output_type": "stream",
     "text": [
      "Breakfast\n",
      "Lunch\n",
      "Dinner\n",
      "Breakfast : ['Egg Sandwich', 'Bagel', 'Coffee']\n",
      "Lunch : ['BLT', 'PB&J', 'Turkey Sandwich']\n",
      "Dinner : ['Soup', 'Salad', 'Spaghetti', 'Taco']\n"
     ]
    }
   ],
   "source": [
    "for item in menus:\n",
    "    print(item)\n",
    "\n",
    "for name, menu in menus.items():\n",
    "    print(name, ':', menu)"
   ]
  },
  {
   "cell_type": "code",
   "execution_count": 8,
   "metadata": {},
   "outputs": [
    {
     "name": "stdout",
     "output_type": "stream",
     "text": [
      "Sarah Smith is 100 years old.\n"
     ]
    }
   ],
   "source": [
    "person = {'name': 'Sarah Smith',\n",
    "          'city': 'Orlando',\n",
    "          'age': '100'}\n",
    "\n",
    "print(person.get('name'), 'is', person.get('age'), 'years old.')"
   ]
  },
  {
   "cell_type": "markdown",
   "metadata": {},
   "source": [
    "# Parse a Nested Contacts Dictionary"
   ]
  },
  {
   "cell_type": "code",
   "execution_count": 11,
   "metadata": {},
   "outputs": [
    {
     "name": "stdout",
     "output_type": "stream",
     "text": [
      "4 students emails:\n",
      "sarah@example.com\n",
      "harry@example.com\n",
      "hermione@example.com\n",
      "ron@example.com\n"
     ]
    }
   ],
   "source": [
    "contacts = {\n",
    "    'number': 4,\n",
    "    'students':\n",
    "        [\n",
    "            {'name':'Sarah Holderness', 'email':'sarah@example.com'},\n",
    "            {'name':'Harry Potter', 'email':'harry@example.com'},\n",
    "            {'name':'Hermione Granger', 'email':'hermione@example.com'},\n",
    "            {'name':'Ron Weasley', 'email':'ron@example.com'},\n",
    "        ]\n",
    "}\n",
    "\n",
    "print(contacts['number'] ,'students emails:')\n",
    "for student in contacts['students']:\n",
    "    # print(student)\n",
    "    print(student['email'])"
   ]
  }
 ],
 "metadata": {
  "kernelspec": {
   "display_name": "Python 3",
   "language": "python",
   "name": "python3"
  },
  "language_info": {
   "codemirror_mode": {
    "name": "ipython",
    "version": 3
   },
   "file_extension": ".py",
   "mimetype": "text/x-python",
   "name": "python",
   "nbconvert_exporter": "python",
   "pygments_lexer": "ipython3",
   "version": "3.11.2"
  }
 },
 "nbformat": 4,
 "nbformat_minor": 2
}
