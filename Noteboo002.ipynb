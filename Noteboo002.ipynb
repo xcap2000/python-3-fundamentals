{
 "cells": [
  {
   "cell_type": "markdown",
   "metadata": {},
   "source": [
    "# Module 5 (Dictionaries, JSON, and pip)"
   ]
  },
  {
   "cell_type": "code",
   "execution_count": 2,
   "metadata": {},
   "outputs": [
    {
     "name": "stdout",
     "output_type": "stream",
     "text": [
      "to be honest\n"
     ]
    }
   ],
   "source": [
    "acronyms = {\n",
    "    \"LOL\": \"laugh out loud\",\n",
    "    \"IDK\": \"I don't know\",\n",
    "    \"TBH\": \"to be honest\"\n",
    "}\n",
    "\n",
    "print(acronyms[\"TBH\"])"
   ]
  },
  {
   "cell_type": "code",
   "execution_count": null,
   "metadata": {},
   "outputs": [],
   "source": [
    "menu = {'Soup': 5, 'Salad': 6}\n",
    "my_dict = {10: 'hello', 2: 6.5}"
   ]
  },
  {
   "cell_type": "code",
   "execution_count": 3,
   "metadata": {},
   "outputs": [
    {
     "name": "stdout",
     "output_type": "stream",
     "text": [
      "{'LOL': 'laugh out loud', 'IDK': \"I don't know\", 'TBH': 'laugh out loud'}\n"
     ]
    }
   ],
   "source": [
    "acronyms = {}\n",
    "acronyms['LOL'] = 'laugh out loud'\n",
    "acronyms['IDK'] = \"I don't know\"\n",
    "acronyms['TBH'] = 'to be honest'\n",
    "print(acronyms)"
   ]
  },
  {
   "cell_type": "markdown",
   "metadata": {},
   "source": [
    "# Update"
   ]
  },
  {
   "cell_type": "code",
   "execution_count": 9,
   "metadata": {},
   "outputs": [
    {
     "name": "stdout",
     "output_type": "stream",
     "text": [
      "{'LOL': 'laugh out loud', 'IDK': \"I don't know\", 'TBH': 'to be honest'}\n",
      "honestly\n"
     ]
    }
   ],
   "source": [
    "acronyms = {\n",
    "    \"LOL\": \"laugh out loud\",\n",
    "    \"IDK\": \"I don't know\",\n",
    "    \"TBH\": \"to be honest\"\n",
    "}\n",
    "print(acronyms)\n",
    "\n",
    "acronyms['TBH'] = 'honestly'\n",
    "\n",
    "print(acronyms['TBH'])"
   ]
  },
  {
   "cell_type": "markdown",
   "metadata": {},
   "source": [
    "# Remove"
   ]
  },
  {
   "cell_type": "code",
   "execution_count": 11,
   "metadata": {},
   "outputs": [
    {
     "name": "stdout",
     "output_type": "stream",
     "text": [
      "{'LOL': 'laugh out loud', 'IDK': \"I don't know\", 'TBH': 'to be honest'}\n",
      "{'IDK': \"I don't know\", 'TBH': 'to be honest'}\n"
     ]
    }
   ],
   "source": [
    "acronyms = {\"LOL\": \"laugh out loud\",\n",
    "            \"IDK\": \"I don't know\",\n",
    "            \"TBH\": \"to be honest\"}\n",
    "print(acronyms)\n",
    "del acronyms[\"LOL\"]\n",
    "print(acronyms)"
   ]
  },
  {
   "cell_type": "markdown",
   "metadata": {},
   "source": [
    "# Get Safely (won't crash if key does not exist)"
   ]
  },
  {
   "cell_type": "code",
   "execution_count": 19,
   "metadata": {},
   "outputs": [
    {
     "name": "stdout",
     "output_type": "stream",
     "text": [
      "None\n",
      "Null\n",
      "Null\n",
      "Key does not exist\n"
     ]
    }
   ],
   "source": [
    "acronyms = {\"LOL\": \"laugh out loud\",\n",
    "            \"IDK\": \"I don't know\",\n",
    "            \"TBH\": \"to be honest\"}\n",
    "# Raises a KeyError\n",
    "# definition = acronyms['BTW']\n",
    "definition = acronyms.get('BTW')\n",
    "print(definition)\n",
    "if definition is None:\n",
    "    print(\"Null\")\n",
    "if definition == None:\n",
    "    print(\"Null\")\n",
    "# None is evaluated to false\n",
    "if definition:\n",
    "    print(definition)\n",
    "else:\n",
    "    print(\"Key does not exist\")"
   ]
  },
  {
   "cell_type": "code",
   "execution_count": 20,
   "metadata": {},
   "outputs": [
    {
     "name": "stdout",
     "output_type": "stream",
     "text": [
      "sentence: IDK what happened TBH\n",
      "translation I don't know what happened to be honest\n"
     ]
    }
   ],
   "source": [
    "acronyms = {\"LOL\": \"laugh out loud\",\n",
    "            \"IDK\": \"I don't know\",\n",
    "            \"TBH\": \"to be honest\"}\n",
    "\n",
    "sentence = \"IDK\" + \" what happened \" + \"TBH\"\n",
    "transalation = acronyms.get(\"IDK\") + \" what happened \" + acronyms.get(\"TBH\")\n",
    "\n",
    "print(\"sentence:\", sentence)\n",
    "print(\"translation\", transalation)"
   ]
  },
  {
   "cell_type": "code",
   "execution_count": null,
   "metadata": {},
   "outputs": [],
   "source": []
  }
 ],
 "metadata": {
  "kernelspec": {
   "display_name": "Python 3",
   "language": "python",
   "name": "python3"
  },
  "language_info": {
   "codemirror_mode": {
    "name": "ipython",
    "version": 3
   },
   "file_extension": ".py",
   "mimetype": "text/x-python",
   "name": "python",
   "nbconvert_exporter": "python",
   "pygments_lexer": "ipython3",
   "version": "3.11.2"
  }
 },
 "nbformat": 4,
 "nbformat_minor": 2
}
