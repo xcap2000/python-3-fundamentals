{
 "cells": [
  {
   "cell_type": "markdown",
   "metadata": {},
   "source": [
    "# Python 3 Fundamentals\n",
    "\n",
    "```\n",
    "https://app.pluralsight.com/library/courses/python-3-fundamentals/table-of-contents\n",
    "```"
   ]
  },
  {
   "cell_type": "code",
   "execution_count": 6,
   "metadata": {},
   "outputs": [
    {
     "data": {
      "text/plain": [
       "60"
      ]
     },
     "execution_count": 6,
     "metadata": {},
     "output_type": "execute_result"
    }
   ],
   "source": [
    "10 + 20 + 30"
   ]
  },
  {
   "cell_type": "code",
   "execution_count": 7,
   "metadata": {},
   "outputs": [
    {
     "name": "stdout",
     "output_type": "stream",
     "text": [
      "60\n"
     ]
    }
   ],
   "source": [
    "total = 10 + 20 + 30\n",
    "print(total)"
   ]
  },
  {
   "cell_type": "code",
   "execution_count": 9,
   "metadata": {},
   "outputs": [
    {
     "data": {
      "text/plain": [
       "30"
      ]
     },
     "execution_count": 9,
     "metadata": {},
     "output_type": "execute_result"
    }
   ],
   "source": [
    "length = 10\n",
    "width = 20\n",
    "area = length + width\n",
    "area"
   ]
  },
  {
   "cell_type": "code",
   "execution_count": 10,
   "metadata": {},
   "outputs": [
    {
     "data": {
      "text/plain": [
       "10"
      ]
     },
     "execution_count": 10,
     "metadata": {},
     "output_type": "execute_result"
    }
   ],
   "source": [
    "amount : int = 10\n",
    "amount"
   ]
  },
  {
   "cell_type": "code",
   "execution_count": 20,
   "metadata": {},
   "outputs": [
    {
     "name": "stdout",
     "output_type": "stream",
     "text": [
      "30\n"
     ]
    }
   ],
   "source": [
    "def sum(a : int, b : int) -> int:\n",
    "    return a + b\n",
    "\n",
    "result: int = sum(10, 20)\n",
    "print(result)"
   ]
  },
  {
   "cell_type": "markdown",
   "metadata": {},
   "source": [
    "# Tax Calculator"
   ]
  },
  {
   "cell_type": "code",
   "execution_count": 5,
   "metadata": {},
   "outputs": [
    {
     "name": "stdout",
     "output_type": "stream",
     "text": [
      "10.6\n"
     ]
    },
    {
     "data": {
      "text/plain": [
       "106.0"
      ]
     },
     "execution_count": 5,
     "metadata": {},
     "output_type": "execute_result"
    }
   ],
   "source": [
    "amount = 10\n",
    "tax = 0.06\n",
    "total = amount + amount * tax\n",
    "print(total)\n",
    "amount = 100\n",
    "total = amount + amount * tax\n",
    "total"
   ]
  },
  {
   "cell_type": "markdown",
   "metadata": {},
   "source": [
    "# Number Conversion/Truncation"
   ]
  },
  {
   "cell_type": "code",
   "execution_count": 7,
   "metadata": {},
   "outputs": [
    {
     "name": "stdout",
     "output_type": "stream",
     "text": [
      "10\n",
      "10.0\n"
     ]
    }
   ],
   "source": [
    "amount = int(10.6)\n",
    "print(amount)\n",
    "amount = float(10)\n",
    "print(amount)"
   ]
  },
  {
   "cell_type": "markdown",
   "metadata": {},
   "source": [
    "# Text and Strings"
   ]
  },
  {
   "cell_type": "code",
   "execution_count": 9,
   "metadata": {},
   "outputs": [
    {
     "name": "stdout",
     "output_type": "stream",
     "text": [
      "Carlos\n",
      "Célia\n",
      "Sarah's Store\n",
      "Hello Sarah\n"
     ]
    }
   ],
   "source": [
    "# You can use single or double quotes\n",
    "name = 'Carlos'\n",
    "print(name)\n",
    "name = \"Célia\"\n",
    "print(name)\n",
    "store_name = \"Sarah's Store\"\n",
    "print(store_name)\n",
    "\n",
    "# Concatenation\n",
    "hello = \"Hello\"\n",
    "name = \"Sarah\"\n",
    "greeting = hello + \" \" + name\n",
    "print(greeting)"
   ]
  },
  {
   "cell_type": "markdown",
   "metadata": {},
   "source": [
    "# Comparison and If"
   ]
  },
  {
   "cell_type": "code",
   "execution_count": 10,
   "metadata": {},
   "outputs": [
    {
     "data": {
      "text/plain": [
       "True"
      ]
     },
     "execution_count": 10,
     "metadata": {},
     "output_type": "execute_result"
    }
   ],
   "source": [
    "temp = 95\n",
    "temp == 95"
   ]
  },
  {
   "cell_type": "code",
   "execution_count": 21,
   "metadata": {},
   "outputs": [
    {
     "name": "stdout",
     "output_type": "stream",
     "text": [
      "It's too hot!\n",
      "Stay inside!\n"
     ]
    }
   ],
   "source": [
    "temperature = 95\n",
    "if temperature > 80:\n",
    "    print(\"It's too hot!\")\n",
    "    print(\"Stay inside!\")\n",
    "elif temperature < 60:\n",
    "    print(\"It's too cold!\")\n",
    "    print(\"Stay inside!\")\n",
    "else:\n",
    "    print(\"Enjoy the outdoors!\")"
   ]
  },
  {
   "cell_type": "code",
   "execution_count": 24,
   "metadata": {},
   "outputs": [
    {
     "name": "stdout",
     "output_type": "stream",
     "text": [
      "Stay inside!\n"
     ]
    }
   ],
   "source": [
    "temperature = 95\n",
    "if temperature > 80 or temperature < 60:\n",
    "    print(\"Stay inside!\")\n",
    "else:\n",
    "    print(\"Enjoy the outdoors!\")"
   ]
  },
  {
   "cell_type": "code",
   "execution_count": 23,
   "metadata": {},
   "outputs": [
    {
     "name": "stdout",
     "output_type": "stream",
     "text": [
      "Stay inside!\n"
     ]
    }
   ],
   "source": [
    "temperature = 75\n",
    "forecast = \"rainy\"\n",
    "\n",
    "if temperature < 80 and forecast != \"rainy\":\n",
    "    print(\"Go outside!\")\n",
    "else:\n",
    "    print(\"Stay inside!\")"
   ]
  },
  {
   "cell_type": "code",
   "execution_count": 25,
   "metadata": {},
   "outputs": [
    {
     "name": "stdout",
     "output_type": "stream",
     "text": [
      "Stay inside!\n"
     ]
    }
   ],
   "source": [
    "forecast = \"rainy\"\n",
    "\n",
    "if not forecast == \"rainy\":\n",
    "    print(\"Go outside!\")\n",
    "else:\n",
    "    print(\"Stay inside!\")"
   ]
  },
  {
   "cell_type": "code",
   "execution_count": null,
   "metadata": {},
   "outputs": [],
   "source": [
    "# int, float, string, boolean\n",
    "a : int = 1\n",
    "b : float = 1.0\n",
    "c : str = \"A\"\n",
    "d : bool = True"
   ]
  },
  {
   "cell_type": "code",
   "execution_count": 26,
   "metadata": {},
   "outputs": [
    {
     "name": "stdout",
     "output_type": "stream",
     "text": [
      "Stay inside!\n"
     ]
    }
   ],
   "source": [
    "raining = True\n",
    "\n",
    "if not raining:\n",
    "    print(\"Go outside!\")\n",
    "else:\n",
    "    print(\"Stay inside!\")"
   ]
  },
  {
   "cell_type": "markdown",
   "metadata": {},
   "source": [
    "# Lists"
   ]
  },
  {
   "cell_type": "code",
   "execution_count": 27,
   "metadata": {},
   "outputs": [
    {
     "name": "stdout",
     "output_type": "stream",
     "text": [
      "LOL\n"
     ]
    }
   ],
   "source": [
    "empty = []\n",
    "words = [\"LOL\", \"IDK\", \"TBH\"]\n",
    "nums = [5, 10, 15]\n",
    "mixed = [5, \"SDK\", 1.5]\n",
    "print(words[0])"
   ]
  },
  {
   "cell_type": "code",
   "execution_count": 32,
   "metadata": {},
   "outputs": [
    {
     "name": "stdout",
     "output_type": "stream",
     "text": [
      "['SMH', 'LOL', 'IDK']\n",
      "['LOL', 'IDK']\n",
      "['LOL']\n",
      "Number found in the list\n"
     ]
    }
   ],
   "source": [
    "acronyms = [\"SMH\"]\n",
    "\n",
    "acronyms.append(\"LOL\")\n",
    "acronyms.append(\"IDK\")\n",
    "\n",
    "print(acronyms)\n",
    "\n",
    "acronyms.remove(\"SMH\")\n",
    "\n",
    "print(acronyms)\n",
    "\n",
    "del acronyms[1]\n",
    "\n",
    "print(acronyms)"
   ]
  },
  {
   "cell_type": "code",
   "execution_count": null,
   "metadata": {},
   "outputs": [],
   "source": [
    "numbers = [1, 2, 3, 4, 5]\n",
    "\n",
    "if 5 in numbers:\n",
    "    print(\"Number found in the list\")"
   ]
  },
  {
   "cell_type": "code",
   "execution_count": 35,
   "metadata": {},
   "outputs": [
    {
     "name": "stdout",
     "output_type": "stream",
     "text": [
      "BFN is not in the list\n",
      "['LOL', 'IDK', 'SMH', 'TBH']\n"
     ]
    }
   ],
   "source": [
    "acronyms = [\"LOL\", 'IDK', 'SMH', 'TBH']\n",
    "word = \"BFN\"\n",
    "\n",
    "if word in acronyms:\n",
    "    print(word + ' is in the list')\n",
    "else:\n",
    "    print(word + ' is not in the list')\n",
    "\n",
    "print(acronyms)"
   ]
  },
  {
   "cell_type": "code",
   "execution_count": 36,
   "metadata": {},
   "outputs": [
    {
     "name": "stdout",
     "output_type": "stream",
     "text": [
      "LOL\n",
      "IDK\n",
      "SMH\n",
      "TBH\n"
     ]
    }
   ],
   "source": [
    "for acronym in acronyms:\n",
    "    print(acronym)"
   ]
  },
  {
   "cell_type": "code",
   "execution_count": 4,
   "metadata": {},
   "outputs": [
    {
     "name": "stdout",
     "output_type": "stream",
     "text": [
      "None\n",
      "None\n",
      "True\n"
     ]
    }
   ],
   "source": [
    "print(None)\n",
    "print(str(None))\n",
    "print(str(None) == \"None\")"
   ]
  },
  {
   "cell_type": "code",
   "execution_count": 11,
   "metadata": {},
   "outputs": [
    {
     "name": "stdout",
     "output_type": "stream",
     "text": [
      "0\n",
      "1\n",
      "2\n",
      "3\n",
      "4\n",
      "5\n",
      "6\n",
      "\n",
      "1\n",
      "2\n",
      "3\n",
      "4\n",
      "5\n",
      "\n",
      "0\n",
      "2\n",
      "4\n",
      "6\n",
      "8\n",
      "10\n",
      "12\n"
     ]
    }
   ],
   "source": [
    "for i in range(7):\n",
    "    print(i)\n",
    "\n",
    "print()\n",
    "\n",
    "for i in range(1, 6):\n",
    "    print(i)\n",
    "\n",
    "print()\n",
    "\n",
    "for i in range(0, 13, 2):\n",
    "    print(i)"
   ]
  },
  {
   "cell_type": "code",
   "execution_count": 17,
   "metadata": {},
   "outputs": [
    {
     "name": "stdout",
     "output_type": "stream",
     "text": [
      "1\n",
      "2\n",
      "3\n",
      "4\n",
      "5\n",
      "6\n",
      "\n",
      "1\n",
      "2\n",
      "3\n",
      "4\n",
      "5\n",
      "6\n",
      "\n",
      "1\n",
      "2\n",
      "3\n",
      "4\n",
      "5\n",
      "6\n",
      "\n",
      "1\n",
      "2\n",
      "3\n",
      "4\n",
      "5\n",
      "6\n",
      "\n"
     ]
    }
   ],
   "source": [
    "list = [\n",
    "    1, 2, 3,\n",
    "    4, 5, 6\n",
    "]\n",
    "\n",
    "for i in list:\n",
    "    print(i)\n",
    "\n",
    "print()\n",
    "\n",
    "list = \\\n",
    "    [\n",
    "    1, 2, 3,\n",
    "    4, 5, 6\n",
    "    ]\n",
    "\n",
    "for i in list:\n",
    "    print(i)\n",
    "\n",
    "print()\n",
    "\n",
    "list = \\\n",
    "[\n",
    "    1, 2, 3,\n",
    "    4, 5, 6\n",
    "]\n",
    "\n",
    "for i in list:\n",
    "    print(i)\n",
    "\n",
    "print()\n",
    "\n",
    "list = \\\n",
    "[\n",
    "1, 2, 3,\n",
    "4, 5, 6\n",
    "]\n",
    "\n",
    "for i in list:\n",
    "    print(i)\n",
    "\n",
    "print()"
   ]
  }
 ],
 "metadata": {
  "kernelspec": {
   "display_name": "Python 3",
   "language": "python",
   "name": "python3"
  },
  "language_info": {
   "codemirror_mode": {
    "name": "ipython",
    "version": 3
   },
   "file_extension": ".py",
   "mimetype": "text/x-python",
   "name": "python",
   "nbconvert_exporter": "python",
   "pygments_lexer": "ipython3",
   "version": "3.11.2"
  }
 },
 "nbformat": 4,
 "nbformat_minor": 2
}
