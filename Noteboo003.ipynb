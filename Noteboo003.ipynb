{
    "cells": [
        {
            "cell_type": "markdown",
            "metadata": {},
            "source": [
                "# Functions"
            ]
        },
        {
            "cell_type": "code",
            "execution_count": 2,
            "metadata": {},
            "outputs": [
                {
                    "name": "stdout",
                    "output_type": "stream",
                    "text": [
                        "Hello Carlos\n"
                    ]
                }
            ],
            "source": [
                "def greeting(name):\n",
                "    print('Hello', name)\n",
                "\n",
                "input_name = input('Enter you name:\\n')\n",
                "greeting(input_name)"
            ]
        },
        {
            "cell_type": "markdown",
            "metadata": {},
            "source": [
                "# Global Scope"
            ]
        },
        {
            "cell_type": "code",
            "execution_count": 3,
            "metadata": {},
            "outputs": [
                {
                    "name": "stdout",
                    "output_type": "stream",
                    "text": [
                        "Hello sdfdsfsd\n"
                    ]
                }
            ],
            "source": [
                "def greeting():\n",
                "    print('Hello', name_val)\n",
                "\n",
                "name_val = input('Enter you name:\\n')\n",
                "greeting()"
            ]
        },
        {
            "cell_type": "code",
            "execution_count": 6,
            "metadata": {},
            "outputs": [
                {
                    "name": "stdout",
                    "output_type": "stream",
                    "text": [
                        "The result is 20.0\n"
                    ]
                }
            ],
            "source": [
                "def addition(a, b):\n",
                "    return a + b;\n",
                "\n",
                "def main():\n",
                "    # Main program\n",
                "    num1 = float(input('Enter your 1st number:\\n'))\n",
                "    num2 = float(input('Enter your 2nd number:\\n'))\n",
                "\n",
                "    # Calling our function\n",
                "    result = addition(num1, num2)\n",
                "    print('The result is', result)\n",
                "\n",
                "main()"
            ]
        },
        {
            "cell_type": "markdown",
            "metadata": {},
            "source": [
                "# Object Oriented Design"
            ]
        },
        {
            "cell_type": "code",
            "execution_count": 2,
            "metadata": {},
            "outputs": [
                {
                    "name": "stdout",
                    "output_type": "stream",
                    "text": [
                        "Spot\n",
                        "Chihuaha\n",
                        "Woof Woof!\n"
                    ]
                }
            ],
            "source": [
                "class Robot_Dog:\n",
                "    def __init__(self, name_val, breed_val):\n",
                "        self.name = name_val\n",
                "        self.breed = breed_val\n",
                "    \n",
                "    def bark(self):\n",
                "        print('Woof Woof!')\n",
                "\n",
                "my_dog = Robot_Dog('Spot', 'Chihuaha')\n",
                "print(my_dog.name)\n",
                "print(my_dog.breed)\n",
                "my_dog.bark()\n"
            ]
        },
        {
            "cell_type": "code",
            "execution_count": 7,
            "metadata": {},
            "outputs": [
                {
                    "name": "stdout",
                    "output_type": "stream",
                    "text": [
                        "My name is Bud\n",
                        "New position: [10, 0]\n",
                        "Woof Woof!\n",
                        "I'm hungry!\n",
                        "I like bacon!\n"
                    ]
                }
            ],
            "source": [
                "class Robot:\n",
                "    def __init__(self, name):\n",
                "        self.name = name\n",
                "        self.position = [0, 0]\n",
                "        print('My name is', self.name)\n",
                "\n",
                "    def walk(self, x):\n",
                "        self.position[0] += x\n",
                "        print('New position:', self.position)\n",
                "\n",
                "    def eat(self):\n",
                "        print(\"I'm hungry!\")\n",
                "\n",
                "class Robot_Dog(Robot):\n",
                "    def make_noise(self):\n",
                "        print('Woof Woof!')\n",
                "    def eat(self):\n",
                "        super().eat()\n",
                "        print(\"I like bacon!\")\n",
                "\n",
                "my_robot_dog = Robot_Dog('Bud')\n",
                "my_robot_dog.walk(10)\n",
                "my_robot_dog.make_noise()\n",
                "my_robot_dog.eat()\n"
            ]
        },
        {
            "cell_type": "markdown",
            "metadata": {},
            "source": [
                "# Syntax Errors and Exceptions"
            ]
        },
        {
            "cell_type": "code",
            "execution_count": 1,
            "metadata": {},
            "outputs": [
                {
                    "ename": "SyntaxError",
                    "evalue": "unmatched ')' (773526075.py, line 2)",
                    "output_type": "error",
                    "traceback": [
                        "\u001b[1;36m  Cell \u001b[1;32mIn[1], line 2\u001b[1;36m\u001b[0m\n\u001b[1;33m    print('Welcome back'))\u001b[0m\n\u001b[1;37m                         ^\u001b[0m\n\u001b[1;31mSyntaxError\u001b[0m\u001b[1;31m:\u001b[0m unmatched ')'\n"
                    ]
                }
            ],
            "source": [
                "# Will fail with a trailing parenthesis at the end, message: SyntaxError: unmatched ')'\n",
                "# print('Welcome back'))"
            ]
        },
        {
            "cell_type": "code",
            "execution_count": 2,
            "metadata": {},
            "outputs": [
                {
                    "ename": "KeyError",
                    "evalue": "'BTW'",
                    "output_type": "error",
                    "traceback": [
                        "\u001b[1;31m---------------------------------------------------------------------------\u001b[0m",
                        "\u001b[1;31mKeyError\u001b[0m                                  Traceback (most recent call last)",
                        "Cell \u001b[1;32mIn[2], line 9\u001b[0m\n\u001b[0;32m      2\u001b[0m acronyms \u001b[38;5;241m=\u001b[39m {\n\u001b[0;32m      3\u001b[0m     \u001b[38;5;124m\"\u001b[39m\u001b[38;5;124mLOL\u001b[39m\u001b[38;5;124m\"\u001b[39m: \u001b[38;5;124m\"\u001b[39m\u001b[38;5;124mlaugh out loud\u001b[39m\u001b[38;5;124m\"\u001b[39m,\n\u001b[0;32m      4\u001b[0m     \u001b[38;5;124m\"\u001b[39m\u001b[38;5;124mIDK\u001b[39m\u001b[38;5;124m\"\u001b[39m: \u001b[38;5;124m\"\u001b[39m\u001b[38;5;124mI don\u001b[39m\u001b[38;5;124m'\u001b[39m\u001b[38;5;124mt know\u001b[39m\u001b[38;5;124m\"\u001b[39m,\n\u001b[0;32m      5\u001b[0m     \u001b[38;5;124m\"\u001b[39m\u001b[38;5;124mTBH\u001b[39m\u001b[38;5;124m\"\u001b[39m: \u001b[38;5;124m\"\u001b[39m\u001b[38;5;124mto be honest\u001b[39m\u001b[38;5;124m\"\u001b[39m\n\u001b[0;32m      6\u001b[0m }\n\u001b[0;32m      8\u001b[0m definition \u001b[38;5;241m=\u001b[39m acronyms\u001b[38;5;241m.\u001b[39mget(\u001b[38;5;124m\"\u001b[39m\u001b[38;5;124mBTW\u001b[39m\u001b[38;5;124m\"\u001b[39m) \u001b[38;5;66;03m# will return none as it is a safe way to get the key\u001b[39;00m\n\u001b[1;32m----> 9\u001b[0m definition \u001b[38;5;241m=\u001b[39m \u001b[43macronyms\u001b[49m\u001b[43m[\u001b[49m\u001b[38;5;124;43m\"\u001b[39;49m\u001b[38;5;124;43mBTW\u001b[39;49m\u001b[38;5;124;43m\"\u001b[39;49m\u001b[43m]\u001b[49m \u001b[38;5;66;03m# Key does not exist, will raise an exception\u001b[39;00m\n",
                        "\u001b[1;31mKeyError\u001b[0m: 'BTW'"
                    ]
                }
            ],
            "source": [
                "# Exceptions occur when the syntax is correct but when executing the code an error occurs\n",
                "acronyms = {\n",
                "    \"LOL\": \"laugh out loud\",\n",
                "    \"IDK\": \"I don't know\",\n",
                "    \"TBH\": \"to be honest\"\n",
                "}\n",
                "\n",
                "# definition = acronyms.get(\"BTW\") # will return none as it is a safe way to get the key\n",
                "# definition = acronyms[\"BTW\"] # Key does not exist, will raise an exception, message: KeyError: 'BTW'\n",
                "\n"
            ]
        }
    ],
    "metadata": {
        "kernelspec": {
            "display_name": ".venv",
            "language": "python",
            "name": "python3"
        },
        "language_info": {
            "codemirror_mode": {
                "name": "ipython",
                "version": 3
            },
            "file_extension": ".py",
            "mimetype": "text/x-python",
            "name": "python",
            "nbconvert_exporter": "python",
            "pygments_lexer": "ipython3",
            "version": "3.12.3"
        }
    },
    "nbformat": 4,
    "nbformat_minor": 2
}