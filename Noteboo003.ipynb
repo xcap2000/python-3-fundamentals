{
 "cells": [
  {
   "cell_type": "markdown",
   "metadata": {},
   "source": [
    "# Functions"
   ]
  },
  {
   "cell_type": "code",
   "execution_count": 2,
   "metadata": {},
   "outputs": [
    {
     "name": "stdout",
     "output_type": "stream",
     "text": [
      "Hello Carlos\n"
     ]
    }
   ],
   "source": [
    "def greeting(name):\n",
    "    print('Hello', name)\n",
    "\n",
    "input_name = input('Enter you name:\\n')\n",
    "greeting(input_name)"
   ]
  },
  {
   "cell_type": "markdown",
   "metadata": {},
   "source": [
    "# Global Scope"
   ]
  },
  {
   "cell_type": "code",
   "execution_count": 3,
   "metadata": {},
   "outputs": [
    {
     "name": "stdout",
     "output_type": "stream",
     "text": [
      "Hello sdfdsfsd\n"
     ]
    }
   ],
   "source": [
    "def greeting():\n",
    "    print('Hello', name_val)\n",
    "\n",
    "name_val = input('Enter you name:\\n')\n",
    "greeting()"
   ]
  },
  {
   "cell_type": "code",
   "execution_count": 6,
   "metadata": {},
   "outputs": [
    {
     "name": "stdout",
     "output_type": "stream",
     "text": [
      "The result is 20.0\n"
     ]
    }
   ],
   "source": [
    "def addition(a, b):\n",
    "    return a + b;\n",
    "\n",
    "def main():\n",
    "    # Main program\n",
    "    num1 = float(input('Enter your 1st number:\\n'))\n",
    "    num2 = float(input('Enter your 2nd number:\\n'))\n",
    "\n",
    "    # Calling our function\n",
    "    result = addition(num1, num2)\n",
    "    print('The result is', result)\n",
    "\n",
    "main()"
   ]
  },
  {
   "cell_type": "markdown",
   "metadata": {},
   "source": [
    "# Object Oriented Design"
   ]
  },
  {
   "cell_type": "code",
   "execution_count": 2,
   "metadata": {},
   "outputs": [
    {
     "name": "stdout",
     "output_type": "stream",
     "text": [
      "Spot\n",
      "Chihuaha\n",
      "Woof Woof!\n"
     ]
    }
   ],
   "source": [
    "class Robot_Dog:\n",
    "    def __init__(self, name_val, breed_val):\n",
    "        self.name = name_val\n",
    "        self.breed = breed_val\n",
    "    \n",
    "    def bark(self):\n",
    "        print('Woof Woof!')\n",
    "\n",
    "my_dog = Robot_Dog('Spot', 'Chihuaha')\n",
    "print(my_dog.name)\n",
    "print(my_dog.breed)\n",
    "my_dog.bark()\n"
   ]
  },
  {
   "cell_type": "code",
   "execution_count": 7,
   "metadata": {},
   "outputs": [
    {
     "name": "stdout",
     "output_type": "stream",
     "text": [
      "My name is Bud\n",
      "New position: [10, 0]\n",
      "Woof Woof!\n",
      "I'm hungry!\n",
      "I like bacon!\n"
     ]
    }
   ],
   "source": [
    "class Robot:\n",
    "    def __init__(self, name):\n",
    "        self.name = name\n",
    "        self.position = [0, 0]\n",
    "        print('My name is', self.name)\n",
    "\n",
    "    def walk(self, x):\n",
    "        self.position[0] += x\n",
    "        print('New position:', self.position)\n",
    "\n",
    "    def eat(self):\n",
    "        print(\"I'm hungry!\")\n",
    "\n",
    "class Robot_Dog(Robot):\n",
    "    def make_noise(self):\n",
    "        print('Woof Woof!')\n",
    "    def eat(self):\n",
    "        super().eat()\n",
    "        print(\"I like bacon!\")\n",
    "\n",
    "my_robot_dog = Robot_Dog('Bud')\n",
    "my_robot_dog.walk(10)\n",
    "my_robot_dog.make_noise()\n",
    "my_robot_dog.eat()\n"
   ]
  }
 ],
 "metadata": {
  "kernelspec": {
   "display_name": ".venv",
   "language": "python",
   "name": "python3"
  },
  "language_info": {
   "codemirror_mode": {
    "name": "ipython",
    "version": 3
   },
   "file_extension": ".py",
   "mimetype": "text/x-python",
   "name": "python",
   "nbconvert_exporter": "python",
   "pygments_lexer": "ipython3",
   "version": "3.11.2"
  }
 },
 "nbformat": 4,
 "nbformat_minor": 2
}
