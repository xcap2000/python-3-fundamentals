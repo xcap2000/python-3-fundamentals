{
 "cells": [
  {
   "cell_type": "markdown",
   "metadata": {},
   "source": [
    "# Functions"
   ]
  },
  {
   "cell_type": "code",
   "execution_count": 2,
   "metadata": {},
   "outputs": [
    {
     "name": "stdout",
     "output_type": "stream",
     "text": [
      "Hello Carlos\n"
     ]
    }
   ],
   "source": [
    "def greeting(name):\n",
    "    print('Hello', name)\n",
    "\n",
    "input_name = input('Enter you name:\\n')\n",
    "greeting(input_name)"
   ]
  },
  {
   "cell_type": "markdown",
   "metadata": {},
   "source": [
    "# Global Scope"
   ]
  },
  {
   "cell_type": "code",
   "execution_count": 3,
   "metadata": {},
   "outputs": [
    {
     "name": "stdout",
     "output_type": "stream",
     "text": [
      "Hello sdfdsfsd\n"
     ]
    }
   ],
   "source": [
    "def greeting():\n",
    "    print('Hello', name)\n",
    "\n",
    "name = input('Enter you name:\\n')\n",
    "greeting()"
   ]
  },
  {
   "cell_type": "code",
   "execution_count": 6,
   "metadata": {},
   "outputs": [
    {
     "name": "stdout",
     "output_type": "stream",
     "text": [
      "The result is 20.0\n"
     ]
    }
   ],
   "source": [
    "def addition(a, b):\n",
    "    return a + b;\n",
    "\n",
    "def main():\n",
    "    # Main program\n",
    "    num1 = float(input('Enter your 1st number:\\n'))\n",
    "    num2 = float(input('Enter your 2nd number:\\n'))\n",
    "\n",
    "    # Calling our function\n",
    "    result = addition(num1, num2)\n",
    "    print('The result is', result)\n",
    "\n",
    "main()"
   ]
  }
 ],
 "metadata": {
  "kernelspec": {
   "display_name": ".venv",
   "language": "python",
   "name": "python3"
  },
  "language_info": {
   "codemirror_mode": {
    "name": "ipython",
    "version": 3
   },
   "file_extension": ".py",
   "mimetype": "text/x-python",
   "name": "python",
   "nbconvert_exporter": "python",
   "pygments_lexer": "ipython3",
   "version": "3.11.2"
  }
 },
 "nbformat": 4,
 "nbformat_minor": 2
}
