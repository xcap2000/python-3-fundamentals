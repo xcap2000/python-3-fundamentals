{
    "cells": [
        {
            "cell_type": "markdown",
            "metadata": {},
            "source": [
                "# Functions"
            ]
        },
        {
            "cell_type": "code",
            "execution_count": 2,
            "metadata": {},
            "outputs": [
                {
                    "name": "stdout",
                    "output_type": "stream",
                    "text": [
                        "Hello Carlos\n"
                    ]
                }
            ],
            "source": [
                "def greeting(name):\n",
                "    print('Hello', name)\n",
                "\n",
                "input_name = input('Enter you name:\\n')\n",
                "greeting(input_name)"
            ]
        },
        {
            "cell_type": "markdown",
            "metadata": {},
            "source": [
                "# Global Scope"
            ]
        },
        {
            "cell_type": "code",
            "execution_count": 3,
            "metadata": {},
            "outputs": [
                {
                    "name": "stdout",
                    "output_type": "stream",
                    "text": [
                        "Hello sdfdsfsd\n"
                    ]
                }
            ],
            "source": [
                "def greeting():\n",
                "    print('Hello', name_val)\n",
                "\n",
                "name_val = input('Enter you name:\\n')\n",
                "greeting()"
            ]
        },
        {
            "cell_type": "code",
            "execution_count": 6,
            "metadata": {},
            "outputs": [
                {
                    "name": "stdout",
                    "output_type": "stream",
                    "text": [
                        "The result is 20.0\n"
                    ]
                }
            ],
            "source": [
                "def addition(a, b):\n",
                "    return a + b;\n",
                "\n",
                "def main():\n",
                "    # Main program\n",
                "    num1 = float(input('Enter your 1st number:\\n'))\n",
                "    num2 = float(input('Enter your 2nd number:\\n'))\n",
                "\n",
                "    # Calling our function\n",
                "    result = addition(num1, num2)\n",
                "    print('The result is', result)\n",
                "\n",
                "main()"
            ]
        },
        {
            "cell_type": "markdown",
            "metadata": {},
            "source": [
                "# Object Oriented Design"
            ]
        },
        {
            "cell_type": "code",
            "execution_count": 2,
            "metadata": {},
            "outputs": [
                {
                    "name": "stdout",
                    "output_type": "stream",
                    "text": [
                        "Spot\n",
                        "Chihuaha\n",
                        "Woof Woof!\n"
                    ]
                }
            ],
            "source": [
                "class Robot_Dog:\n",
                "    def __init__(self, name_val, breed_val):\n",
                "        self.name = name_val\n",
                "        self.breed = breed_val\n",
                "    \n",
                "    def bark(self):\n",
                "        print('Woof Woof!')\n",
                "\n",
                "my_dog = Robot_Dog('Spot', 'Chihuaha')\n",
                "print(my_dog.name)\n",
                "print(my_dog.breed)\n",
                "my_dog.bark()\n"
            ]
        },
        {
            "cell_type": "code",
            "execution_count": 7,
            "metadata": {},
            "outputs": [
                {
                    "name": "stdout",
                    "output_type": "stream",
                    "text": [
                        "My name is Bud\n",
                        "New position: [10, 0]\n",
                        "Woof Woof!\n",
                        "I'm hungry!\n",
                        "I like bacon!\n"
                    ]
                }
            ],
            "source": [
                "class Robot:\n",
                "    def __init__(self, name):\n",
                "        self.name = name\n",
                "        self.position = [0, 0]\n",
                "        print('My name is', self.name)\n",
                "\n",
                "    def walk(self, x):\n",
                "        self.position[0] += x\n",
                "        print('New position:', self.position)\n",
                "\n",
                "    def eat(self):\n",
                "        print(\"I'm hungry!\")\n",
                "\n",
                "class Robot_Dog(Robot):\n",
                "    def make_noise(self):\n",
                "        print('Woof Woof!')\n",
                "    def eat(self):\n",
                "        super().eat()\n",
                "        print(\"I like bacon!\")\n",
                "\n",
                "my_robot_dog = Robot_Dog('Bud')\n",
                "my_robot_dog.walk(10)\n",
                "my_robot_dog.make_noise()\n",
                "my_robot_dog.eat()\n"
            ]
        },
        {
            "cell_type": "markdown",
            "metadata": {},
            "source": [
                "# Syntax Errors and Exceptions"
            ]
        },
        {
            "cell_type": "code",
            "execution_count": 1,
            "metadata": {},
            "outputs": [
                {
                    "ename": "SyntaxError",
                    "evalue": "unmatched ')' (773526075.py, line 2)",
                    "output_type": "error",
                    "traceback": [
                        "\u001b[1;36m  Cell \u001b[1;32mIn[1], line 2\u001b[1;36m\u001b[0m\n\u001b[1;33m    print('Welcome back'))\u001b[0m\n\u001b[1;37m                         ^\u001b[0m\n\u001b[1;31mSyntaxError\u001b[0m\u001b[1;31m:\u001b[0m unmatched ')'\n"
                    ]
                }
            ],
            "source": [
                "# Will fail with a trailing parenthesis at the end, message: SyntaxError: unmatched ')'\n",
                "# print('Welcome back'))"
            ]
        },
        {
            "cell_type": "code",
            "execution_count": 3,
            "metadata": {},
            "outputs": [
                {
                    "name": "stdout",
                    "output_type": "stream",
                    "text": [
                        "Definition of LOL is laugh out loud\n",
                        "The acronyms we have defined are:\n",
                        "LOL\n",
                        "IDK\n",
                        "TBH\n",
                        "The program keeps going\n"
                    ]
                }
            ],
            "source": [
                "# Exceptions occur when the syntax is correct but when executing the code an error occurs\n",
                "acronyms = {\n",
                "    \"LOL\": \"laugh out loud\",\n",
                "    \"IDK\": \"I don't know\",\n",
                "    \"TBH\": \"to be honest\"\n",
                "}\n",
                "\n",
                "# definition = acronyms.get(\"BTW\") # will return none as it is a safe way to get the key\n",
                "# definition = acronyms[\"BTW\"] # Key does not exist, will raise an exception, message: KeyError: 'BTW'\n",
                "\n",
                "# acronym = 'BTW'\n",
                "acronym = 'LOL'\n",
                "\n",
                "try:\n",
                "    definition = acronyms[acronym]\n",
                "    print(\"Definition of\", acronym, \"is\", definition)\n",
                "except:\n",
                "    print(\"The key\", acronym, \"does not exist\")\n",
                "finally:\n",
                "    print(\"The acronyms we have defined are:\")\n",
                "    for acronym in acronyms:\n",
                "        print(acronym)\n",
                "\n",
                "print(\"The program keeps going\")"
            ]
        },
        {
            "cell_type": "markdown",
            "metadata": {},
            "source": [
                "# Raise / Throw Exceptions"
            ]
        },
        {
            "cell_type": "code",
            "execution_count": 6,
            "metadata": {},
            "outputs": [
                {
                    "ename": "Exception",
                    "evalue": "Divisor cannot be 0",
                    "output_type": "error",
                    "traceback": [
                        "\u001b[1;31m---------------------------------------------------------------------------\u001b[0m",
                        "\u001b[1;31mException\u001b[0m                                 Traceback (most recent call last)",
                        "Cell \u001b[1;32mIn[6], line 10\u001b[0m\n\u001b[0;32m      7\u001b[0m     \u001b[38;5;28mprint\u001b[39m(a, \u001b[38;5;124m\"\u001b[39m\u001b[38;5;124m/\u001b[39m\u001b[38;5;124m\"\u001b[39m, b, \u001b[38;5;124m\"\u001b[39m\u001b[38;5;124mis\u001b[39m\u001b[38;5;124m\"\u001b[39m, result, \u001b[38;5;124m\"\u001b[39m\u001b[38;5;124mremainder\u001b[39m\u001b[38;5;124m\"\u001b[39m, remainder)\n\u001b[0;32m      9\u001b[0m \u001b[38;5;66;03m# remainder_division(10, 3) # works\u001b[39;00m\n\u001b[1;32m---> 10\u001b[0m \u001b[43mremainder_division\u001b[49m\u001b[43m(\u001b[49m\u001b[38;5;241;43m10\u001b[39;49m\u001b[43m,\u001b[49m\u001b[43m \u001b[49m\u001b[38;5;241;43m0\u001b[39;49m\u001b[43m)\u001b[49m \u001b[38;5;66;03m# throws a ZeroDivisionError but we are throwing ourselves or a custom Exception\u001b[39;00m\n",
                        "Cell \u001b[1;32mIn[6], line 4\u001b[0m, in \u001b[0;36mremainder_division\u001b[1;34m(a, b)\u001b[0m\n\u001b[0;32m      1\u001b[0m \u001b[38;5;28;01mdef\u001b[39;00m \u001b[38;5;21mremainder_division\u001b[39m(a, b):\n\u001b[0;32m      2\u001b[0m     \u001b[38;5;28;01mif\u001b[39;00m b \u001b[38;5;241m==\u001b[39m \u001b[38;5;241m0\u001b[39m:\n\u001b[0;32m      3\u001b[0m         \u001b[38;5;66;03m# raise ZeroDivisionError\u001b[39;00m\n\u001b[1;32m----> 4\u001b[0m         \u001b[38;5;28;01mraise\u001b[39;00m \u001b[38;5;167;01mException\u001b[39;00m(\u001b[38;5;124m\"\u001b[39m\u001b[38;5;124mDivisor cannot be 0\u001b[39m\u001b[38;5;124m\"\u001b[39m)\n\u001b[0;32m      5\u001b[0m     result \u001b[38;5;241m=\u001b[39m a \u001b[38;5;241m/\u001b[39m\u001b[38;5;241m/\u001b[39m b\n\u001b[0;32m      6\u001b[0m     remainder \u001b[38;5;241m=\u001b[39m a \u001b[38;5;241m%\u001b[39m b\n",
                        "\u001b[1;31mException\u001b[0m: Divisor cannot be 0"
                    ]
                }
            ],
            "source": [
                "def remainder_division(a, b):\n",
                "    if b == 0:\n",
                "        # raise ZeroDivisionError\n",
                "        raise Exception(\"Divisor cannot be 0\")\n",
                "    result = a // b\n",
                "    remainder = a % b\n",
                "    print(a, \"/\", b, \"is\", result, \"remainder\", remainder)\n",
                "\n",
                "# remainder_division(10, 3) # works\n",
                "remainder_division(10, 0) # throws a ZeroDivisionError but we are throwing ourselves or a custom Exception"
            ]
        },
        {
            "cell_type": "markdown",
            "metadata": {},
            "source": [
                "# Reading/Writing Files"
            ]
        },
        {
            "cell_type": "code",
            "execution_count": 16,
            "metadata": {},
            "outputs": [
                {
                    "name": "stdout",
                    "output_type": "stream",
                    "text": [
                        "IDE - Intgrated Development Environment\n",
                        "OOP - Object Oriented Programming\n",
                        "UX - User Experience\n",
                        "JSON - JavaScript Object Notation\n",
                        "FIFO - First In First Out\n",
                        "LIFO - Last In First Out\n",
                        "TDD - Test Driven Development\n",
                        "SaaS - Software as a Service\n",
                        "PasS - Platform as a Service\n",
                        "IaaS - Infrastructure as a Service\n",
                        "\n",
                        "IDE - Intgrated Development Environment\n",
                        "OOP - Object Oriented Programming\n",
                        "IDE - Intgrated Development Environment\n",
                        "OOP - Object Oriented Programming\n",
                        "UX - User Experience\n",
                        "JSON - JavaScript Object Notation\n",
                        "FIFO - First In First Out\n",
                        "LIFO - Last In First Out\n",
                        "TDD - Test Driven Development\n",
                        "SaaS - Software as a Service\n",
                        "PasS - Platform as a Service\n",
                        "IaaS - Infrastructure as a ServiceIDE - Intgrated Development Environment\n",
                        "OOP - Object Oriented Programming\n",
                        "UX - User Experience\n",
                        "JSON - JavaScript Object Notation\n",
                        "FIFO - First In First Out\n",
                        "LIFO - Last In First Out\n",
                        "TDD - Test Driven Development\n",
                        "SaaS - Software as a Service\n",
                        "PasS - Platform as a Service\n",
                        "IaaS - Infrastructure as a Service"
                    ]
                }
            ],
            "source": [
                "file = open(\"acronyms.txt\")\n",
                "\n",
                "# or\n",
                "\n",
                "try:\n",
                "    # Do file operations here\n",
                "    pass\n",
                "finally:\n",
                "    file.close()"
            ]
        },
        {
            "cell_type": "code",
            "execution_count": null,
            "metadata": {},
            "outputs": [],
            "source": [
                "# or\n",
                "\n",
                "with open(\"acronyms.txt\") as file: # similar to using in c# or a try/catch/finally above\n",
                "    result = file.read() # reads all the file contents\n",
                "    print(result)"
            ]
        },
        {
            "cell_type": "code",
            "execution_count": null,
            "metadata": {},
            "outputs": [],
            "source": [
                "# or read line by line\n",
                "with open(\"acronyms.txt\") as file:\n",
                "    print()\n",
                "    result = file.readline()\n",
                "    print(result, end=\"\") # removes the line break as it already comes from file\n",
                "    result = file.readline()\n",
                "    print(result, end=\"\")"
            ]
        },
        {
            "cell_type": "code",
            "execution_count": null,
            "metadata": {},
            "outputs": [],
            "source": [
                "# or return a list of lines, a list of strings\n",
                "\n",
                "with open(\"acronyms.txt\") as file:\n",
                "    result = file.readlines()\n",
                "    for line in result:\n",
                "        print(line, end=\"\")"
            ]
        },
        {
            "cell_type": "code",
            "execution_count": null,
            "metadata": {},
            "outputs": [],
            "source": [
                "# since this is common we can loop over the file object itself\n",
                "\n",
                "with open(\"acronyms.txt\") as file:\n",
                "    for line in file:\n",
                "        print(line, end=\"\")"
            ]
        }
    ],
    "metadata": {
        "kernelspec": {
            "display_name": ".venv",
            "language": "python",
            "name": "python3"
        },
        "language_info": {
            "codemirror_mode": {
                "name": "ipython",
                "version": 3
            },
            "file_extension": ".py",
            "mimetype": "text/x-python",
            "name": "python",
            "nbconvert_exporter": "python",
            "pygments_lexer": "ipython3",
            "version": "3.12.4"
        }
    },
    "nbformat": 4,
    "nbformat_minor": 2
}
