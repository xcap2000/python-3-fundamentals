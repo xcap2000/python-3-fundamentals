{
 "cells": [
  {
   "cell_type": "markdown",
   "metadata": {},
   "source": [
    "# OS Functions"
   ]
  },
  {
   "cell_type": "code",
   "execution_count": 1,
   "metadata": {},
   "outputs": [],
   "source": [
    "import os\n",
    "\n",
    "os.mkdir(\"/home/carlos/Desktop/CleanUp/\")"
   ]
  },
  {
   "cell_type": "code",
   "execution_count": 5,
   "metadata": {},
   "outputs": [
    {
     "name": "stdout",
     "output_type": "stream",
     "text": [
      "File: Teste.txt\n",
      "Directory: CleanUp\n"
     ]
    }
   ],
   "source": [
    "folder = \"/home/carlos/Desktop/\"\n",
    "\n",
    "entries = os.scandir(folder)\n",
    "\n",
    "for entry in entries:\n",
    "    if os.path.isfile(entry):\n",
    "        print(\"File:\", entry.name)\n",
    "    elif os.path.isdir(entry):\n",
    "        print(\"Directory:\", entry.name)"
   ]
  },
  {
   "cell_type": "code",
   "execution_count": null,
   "metadata": {},
   "outputs": [],
   "source": [
    "folder_destination = \"/home/carlos/Desktop/CleanUp/\"\n",
    "\n",
    "new_name = os.path.join(folder_destination, \"new.txt\")\n",
    "\n",
    "# new_name = folder_destination + \"new.txt\" would ne risky, join adds or removes slashes as needed"
   ]
  },
  {
   "cell_type": "code",
   "execution_count": 6,
   "metadata": {},
   "outputs": [],
   "source": [
    "import os\n",
    "\n",
    "folder_original = \"/home/carlos/Desktop/\"\n",
    "folder_destination = \"/home/carlos/Desktop/CleanUp/\"\n",
    "\n",
    "location_original = os.path.join(folder_original, \"Teste.txt\")\n",
    "location_destination = os.path.join(folder_destination, \"Teste.txt\")\n",
    "\n",
    "os.rename(location_original, location_destination)"
   ]
  }
 ],
 "metadata": {
  "kernelspec": {
   "display_name": ".venv",
   "language": "python",
   "name": "python3"
  },
  "language_info": {
   "codemirror_mode": {
    "name": "ipython",
    "version": 3
   },
   "file_extension": ".py",
   "mimetype": "text/x-python",
   "name": "python",
   "nbconvert_exporter": "python",
   "pygments_lexer": "ipython3",
   "version": "3.11.2"
  }
 },
 "nbformat": 4,
 "nbformat_minor": 2
}
